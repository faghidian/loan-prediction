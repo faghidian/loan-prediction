{
 "cells": [
  {
   "cell_type": "code",
   "execution_count": 5,
   "metadata": {},
   "outputs": [],
   "source": [
    "import warnings\n",
    "warnings.filterwarnings(\"ignore\") # Suppress warnings, useful for cleaner output\n",
    "\n",
    "import os\n",
    "import pandas as pd\n",
    "import numpy as np\n",
    "from sklearn.model_selection import train_test_split\n",
    "from sklearn.preprocessing import StandardScaler\n",
    "from imblearn.combine import SMOTEENN \n",
    "from sklearn.model_selection import StratifiedKFold\n",
    "from sklearn.metrics import classification_report, accuracy_score, confusion_matrix\n",
    "from sklearn.metrics import f1_score, roc_auc_score, roc_curve, auc\n",
    "import matplotlib.pyplot as plt\n",
    "import seaborn as sns\n",
    "from collections import Counter\n",
    "\n",
    "import torch\n",
    "import torch.nn as nn\n",
    "import torch.optim as optim\n",
    "import torch.nn.functional as F\n",
    "from tqdm import tqdm\n",
    "from torchinfo import summary"
   ]
  },
  {
   "cell_type": "code",
   "execution_count": 8,
   "metadata": {},
   "outputs": [
    {
     "name": "stdout",
     "output_type": "stream",
     "text": [
      "Dataset loaded successfully.\n"
     ]
    },
    {
     "data": {
      "text/html": [
       "<div>\n",
       "<style scoped>\n",
       "    .dataframe tbody tr th:only-of-type {\n",
       "        vertical-align: middle;\n",
       "    }\n",
       "\n",
       "    .dataframe tbody tr th {\n",
       "        vertical-align: top;\n",
       "    }\n",
       "\n",
       "    .dataframe thead th {\n",
       "        text-align: right;\n",
       "    }\n",
       "</style>\n",
       "<table border=\"1\" class=\"dataframe\">\n",
       "  <thead>\n",
       "    <tr style=\"text-align: right;\">\n",
       "      <th></th>\n",
       "      <th>id</th>\n",
       "      <th>member_id</th>\n",
       "      <th>loan_amnt</th>\n",
       "      <th>int_rate</th>\n",
       "      <th>annual_inc</th>\n",
       "      <th>percent_bc_gt_75</th>\n",
       "      <th>bc_util</th>\n",
       "      <th>dti</th>\n",
       "      <th>inq_last_6mths</th>\n",
       "      <th>mths_since_recent_inq</th>\n",
       "      <th>revol_util</th>\n",
       "      <th>total_bc_limit</th>\n",
       "      <th>tot_hi_cred_lim</th>\n",
       "      <th>tot_cur_bal</th>\n",
       "      <th>internal_score</th>\n",
       "      <th>bad_flag</th>\n",
       "      <th>anomaly_score</th>\n",
       "      <th>anomaly</th>\n",
       "    </tr>\n",
       "  </thead>\n",
       "  <tbody>\n",
       "    <tr>\n",
       "      <th>0</th>\n",
       "      <td>10000001</td>\n",
       "      <td>11983056.0</td>\n",
       "      <td>7550</td>\n",
       "      <td>16.24</td>\n",
       "      <td>28000.0</td>\n",
       "      <td>100.0</td>\n",
       "      <td>96.0</td>\n",
       "      <td>8.40</td>\n",
       "      <td>0.0</td>\n",
       "      <td>17.0</td>\n",
       "      <td>72.0</td>\n",
       "      <td>4000.0</td>\n",
       "      <td>3828.953801</td>\n",
       "      <td>5759.0</td>\n",
       "      <td>99</td>\n",
       "      <td>0.0</td>\n",
       "      <td>0.105777</td>\n",
       "      <td>1</td>\n",
       "    </tr>\n",
       "    <tr>\n",
       "      <th>1</th>\n",
       "      <td>10000002</td>\n",
       "      <td>12002921.0</td>\n",
       "      <td>27050</td>\n",
       "      <td>10.99</td>\n",
       "      <td>55000.0</td>\n",
       "      <td>25.0</td>\n",
       "      <td>53.9</td>\n",
       "      <td>22.87</td>\n",
       "      <td>0.0</td>\n",
       "      <td>8.0</td>\n",
       "      <td>61.2</td>\n",
       "      <td>35700.0</td>\n",
       "      <td>34359.940730</td>\n",
       "      <td>114834.0</td>\n",
       "      <td>353</td>\n",
       "      <td>0.0</td>\n",
       "      <td>0.107448</td>\n",
       "      <td>1</td>\n",
       "    </tr>\n",
       "    <tr>\n",
       "      <th>2</th>\n",
       "      <td>10000003</td>\n",
       "      <td>11983096.0</td>\n",
       "      <td>12000</td>\n",
       "      <td>10.99</td>\n",
       "      <td>60000.0</td>\n",
       "      <td>0.0</td>\n",
       "      <td>15.9</td>\n",
       "      <td>4.62</td>\n",
       "      <td>1.0</td>\n",
       "      <td>3.0</td>\n",
       "      <td>24.0</td>\n",
       "      <td>18100.0</td>\n",
       "      <td>16416.617760</td>\n",
       "      <td>7137.0</td>\n",
       "      <td>157</td>\n",
       "      <td>0.0</td>\n",
       "      <td>0.117730</td>\n",
       "      <td>1</td>\n",
       "    </tr>\n",
       "    <tr>\n",
       "      <th>3</th>\n",
       "      <td>10000004</td>\n",
       "      <td>12003142.0</td>\n",
       "      <td>28000</td>\n",
       "      <td>7.62</td>\n",
       "      <td>325000.0</td>\n",
       "      <td>16.7</td>\n",
       "      <td>67.1</td>\n",
       "      <td>18.55</td>\n",
       "      <td>1.0</td>\n",
       "      <td>3.0</td>\n",
       "      <td>54.6</td>\n",
       "      <td>42200.0</td>\n",
       "      <td>38014.149760</td>\n",
       "      <td>799592.0</td>\n",
       "      <td>365</td>\n",
       "      <td>0.0</td>\n",
       "      <td>-0.006403</td>\n",
       "      <td>-1</td>\n",
       "    </tr>\n",
       "    <tr>\n",
       "      <th>4</th>\n",
       "      <td>10000005</td>\n",
       "      <td>11993233.0</td>\n",
       "      <td>12000</td>\n",
       "      <td>13.53</td>\n",
       "      <td>40000.0</td>\n",
       "      <td>33.3</td>\n",
       "      <td>79.6</td>\n",
       "      <td>16.94</td>\n",
       "      <td>0.0</td>\n",
       "      <td>17.0</td>\n",
       "      <td>68.8</td>\n",
       "      <td>7000.0</td>\n",
       "      <td>6471.462236</td>\n",
       "      <td>13605.0</td>\n",
       "      <td>157</td>\n",
       "      <td>0.0</td>\n",
       "      <td>0.135942</td>\n",
       "      <td>1</td>\n",
       "    </tr>\n",
       "  </tbody>\n",
       "</table>\n",
       "</div>"
      ],
      "text/plain": [
       "         id   member_id  loan_amnt  int_rate  annual_inc  percent_bc_gt_75  \\\n",
       "0  10000001  11983056.0       7550     16.24     28000.0             100.0   \n",
       "1  10000002  12002921.0      27050     10.99     55000.0              25.0   \n",
       "2  10000003  11983096.0      12000     10.99     60000.0               0.0   \n",
       "3  10000004  12003142.0      28000      7.62    325000.0              16.7   \n",
       "4  10000005  11993233.0      12000     13.53     40000.0              33.3   \n",
       "\n",
       "   bc_util    dti  inq_last_6mths  mths_since_recent_inq  revol_util  \\\n",
       "0     96.0   8.40             0.0                   17.0        72.0   \n",
       "1     53.9  22.87             0.0                    8.0        61.2   \n",
       "2     15.9   4.62             1.0                    3.0        24.0   \n",
       "3     67.1  18.55             1.0                    3.0        54.6   \n",
       "4     79.6  16.94             0.0                   17.0        68.8   \n",
       "\n",
       "   total_bc_limit  tot_hi_cred_lim  tot_cur_bal  internal_score  bad_flag  \\\n",
       "0          4000.0      3828.953801       5759.0              99       0.0   \n",
       "1         35700.0     34359.940730     114834.0             353       0.0   \n",
       "2         18100.0     16416.617760       7137.0             157       0.0   \n",
       "3         42200.0     38014.149760     799592.0             365       0.0   \n",
       "4          7000.0      6471.462236      13605.0             157       0.0   \n",
       "\n",
       "   anomaly_score  anomaly  \n",
       "0       0.105777        1  \n",
       "1       0.107448        1  \n",
       "2       0.117730        1  \n",
       "3      -0.006403       -1  \n",
       "4       0.135942        1  "
      ]
     },
     "execution_count": 8,
     "metadata": {},
     "output_type": "execute_result"
    }
   ],
   "source": [
    "# Load and show the dataset from the specified path\n",
    "file_path = \"D:/processed_anomaly_training_loan_data.csv\"\n",
    "\n",
    "# Check if the file exists\n",
    "if os.path.exists(file_path):\n",
    "    df = pd.read_csv(file_path, header=0)\n",
    "    print(\"Dataset loaded successfully.\")\n",
    "    df.head()  # Show first 5 rows, consider inspecting more if needed\n",
    "else:\n",
    "    print(f\"File not found at {file_path}\")\n",
    "\n",
    "df.head()"
   ]
  },
  {
   "cell_type": "code",
   "execution_count": 9,
   "metadata": {},
   "outputs": [
    {
     "name": "stdout",
     "output_type": "stream",
     "text": [
      "Minority class ratio: 0.0698\n",
      "Majority class ratio: 0.9302\n"
     ]
    },
    {
     "data": {
      "image/png": "[encoded data removed]",
      "text/plain": [
       "<Figure size 432x288 with 1 Axes>"
      ]
     },
     "metadata": {
      "needs_background": "light"
     },
     "output_type": "display_data"
    }
   ],
   "source": [
    "# Calculate the number of samples in each class (minority and majority)\n",
    "minority_count = df[df['bad_flag'] == 1].shape[0]\n",
    "majority_count = df[df['bad_flag'] == 0].shape[0]\n",
    "total_count = len(df)\n",
    "\n",
    "minority_ratio = minority_count / total_count  # Proportion of the minority class\n",
    "majority_ratio = majority_count / total_count  # Proportion of the majority class\n",
    "\n",
    "print(f\"Minority class ratio: {minority_ratio:.4f}\")\n",
    "print(f\"Majority class ratio: {majority_ratio:.4f}\")\n",
    "\n",
    "# Plot class distribution\n",
    "class_counts = df['bad_flag'].value_counts()\n",
    "\n",
    "plt.figure(figsize=(6, 4))\n",
    "class_counts.plot(kind='bar', color=['#FF6347', '#4682B4'], width=0.6)\n",
    "\n",
    "plt.title(\"Class Distribution: Loan Default Prediction\", fontsize=14)\n",
    "plt.xlabel(\"Class (0 = Majority, 1 = Minority)\", fontsize=12)\n",
    "plt.ylabel(\"Count\", fontsize=12)\n",
    "plt.xticks([0, 1], ['Majority (0)', 'Minority (1)'], rotation=0, fontsize=10)\n",
    "plt.ylabel(\"Number of Samples\", fontsize=10)\n",
    "\n",
    "# Add class count as labels above the bars\n",
    "for i, count in enumerate(class_counts):\n",
    "    plt.text(i, count + 10, str(count), ha='center', fontsize=12)\n",
    "\n",
    "plt.tight_layout() \n",
    "plt.show()"
   ]
  },
  {
   "cell_type": "code",
   "execution_count": 10,
   "metadata": {},
   "outputs": [
    {
     "name": "stdout",
     "output_type": "stream",
     "text": [
      "shape of original training set: (150498,)\n",
      "shape of SMOTE training set: (215027,)\n",
      "\n",
      "Class distribution in original training set: {0.0: 140056, 1.0: 10442}\n",
      "Class distribution in resampled training set: {0.0: 89477, 1.0: 125550}\n"
     ]
    },
    {
     "data": {
      "image/png": "[encoded data removed]",
      "text/plain": [
       "<Figure size 432x288 with 1 Axes>"
      ]
     },
     "metadata": {
      "needs_background": "light"
     },
     "output_type": "display_data"
    }
   ],
   "source": [
    "# Splitting data into training and testing sets\n",
    "X = df.drop(columns=['bad_flag','anomaly_score','anomaly'], axis=1)\n",
    "y = df['bad_flag']\n",
    "\n",
    "X_train, X_test, y_train, y_test = train_test_split(X, y, test_size=0.2, random_state=123)\n",
    "\n",
    "# Handling class imbalance using SMOTEENN (SMOTE + Edited Nearest Neighbors)\n",
    "smote_enn = SMOTEENN(random_state=123)\n",
    "X_train_res, y_train_res = smote_enn.fit_resample(X_train, y_train)\n",
    "\n",
    "print(f'shape of original training set: {y_train.shape}')\n",
    "print(f'shape of SMOTE training set: {y_train_res.shape}')\n",
    "\n",
    "# Display the class distribution before and after resampling\n",
    "print(f'\\nClass distribution in original training set: {dict(Counter(y_train))}')\n",
    "print(f'Class distribution in resampled training set: {dict(Counter(y_train_res))}')\n",
    "\n",
    "# Convert Counter to a pandas Series for easy plotting\n",
    "resampled_counter = pd.Series(Counter(y_train_res))\n",
    "\n",
    "# Plot the class distribution after resampling\n",
    "plt.figure(figsize=(6, 4))\n",
    "resampled_counter.plot(kind='bar', color=['#FF6347', '#4682B4'], width=0.6)\n",
    "\n",
    "plt.title(\"Class Distribution After SMOTEENN\", fontsize=14)\n",
    "plt.xlabel(\"Class (0 = Majority, 1 = Minority)\", fontsize=12)\n",
    "plt.ylabel(\"Count\", fontsize=12)\n",
    "plt.xticks([0, 1], ['Majority (0)', 'Minority (1)'], rotation=0, fontsize=10)\n",
    "\n",
    "for i, count in enumerate(resampled_counter):\n",
    "    plt.text(i, count + 10, str(count), ha='center', fontsize=12)\n",
    "\n",
    "plt.tight_layout()\n",
    "plt.show()"
   ]
  },
  {
   "cell_type": "code",
   "execution_count": 11,
   "metadata": {},
   "outputs": [],
   "source": [
    "# Scale the resampled data\n",
    "scaler = StandardScaler()\n",
    "X_train_res = scaler.fit_transform(X_train_res)\n",
    "X_test_scaled = scaler.transform(X_test)  # Don't scale the test data yet\n",
    "\n",
    "# Convert to PyTorch tensors\n",
    "X_res_tensor = torch.tensor(X_train_res, dtype=torch.float32)\n",
    "y_res_tensor = torch.tensor(y_train_res.values, dtype=torch.long)\n",
    "X_test_tensor = torch.tensor(X_test_scaled, dtype=torch.float32)\n",
    "y_test_tensor = torch.tensor(y_test.values, dtype=torch.long)\n",
    "\n",
    "\n",
    "# Define the Neural Network model with two hidden layers\n",
    "hidden_size_1 = 64  # Number of neurons in the first hidden layer\n",
    "hidden_size_2 = 32  # Number of neurons in the second hidden layer\n",
    "\n",
    "class SimpleNNII(nn.Module):\n",
    "    def __init__(self, input_size, hidden_size_1=hidden_size_1, hidden_size_2=hidden_size_2):\n",
    "        super(SimpleNNII, self).__init__()\n",
    "        # Define the layers\n",
    "        self.hidden_layer_1 = nn.Linear(input_size, hidden_size_1)  # First hidden layer\n",
    "        self.hidden_layer_2 = nn.Linear(hidden_size_1, hidden_size_2)  # Second hidden layer\n",
    "        self.dropout = nn.Dropout(0.3)  # Dropout layer with 30% dropout\n",
    "        self.output_layer = nn.Linear(hidden_size_2, 1)  # Output layer (1 neuron for binary classification)\n",
    "        self.sigmoid = nn.Sigmoid()  # Sigmoid activation for binary classification\n",
    "\n",
    "    def forward(self, x):\n",
    "        x = F.relu(self.hidden_layer_1(x))  # Apply ReLU to the first hidden layer\n",
    "        x = self.dropout(x)  # Apply dropout\n",
    "        x = F.relu(self.hidden_layer_2(x))  # Apply ReLU to the second hidden layer\n",
    "        x = self.dropout(x)  # Apply dropout again to reduce overfitting\n",
    "        x = self.output_layer(x)  # Pass through the output layer\n",
    "        x = self.sigmoid(x)  # Sigmoid activation to output probabilities (0 or 1)\n",
    "        return x\n",
    "\n",
    "# Initialize the model\n",
    "input_size = X_train_res.shape[1]  # Get the number of features in the input\n",
    "model = SimpleNNII(input_size)  # Create the model instance"
   ]
  },
  {
   "cell_type": "code",
   "execution_count": 12,
   "metadata": {},
   "outputs": [],
   "source": [
    "# Function to calculate F1 score by applying a threshold\n",
    "def calculate_f1_score(pred, y, threshold=0.5):\n",
    "    pred = (pred >= threshold).astype(float)  # Apply threshold and convert to float (0.0 or 1.0)\n",
    "    f1 = f1_score(y, pred)  # Calculate F1 score\n",
    "    return f1\n",
    "\n",
    "# Manual grid search function for hyperparameter tuning using AUC and F1 score evaluation\n",
    "def grid_search(X_train, y_train, X_val, y_val, hidden_sizes_1, hidden_sizes_2, learning_rates):\n",
    "    best_auc = 0\n",
    "    best_f1 = 0\n",
    "    best_model = None\n",
    "    best_params = None\n",
    "    \n",
    "    for hidden_size_1 in hidden_sizes_1:  # Loop over different sizes for the first hidden layer\n",
    "        for hidden_size_2 in hidden_sizes_2:  # Loop over different sizes for the second hidden layer\n",
    "            for lr in learning_rates:  # Loop over different learning rates\n",
    "                model = SimpleNNII(input_size=X_train.shape[1], \n",
    "                                 hidden_size_1=hidden_size_1, \n",
    "                                 hidden_size_2=hidden_size_2)  # Initialize the model with two hidden sizes\n",
    "                \n",
    "                # Define the loss and optimizer\n",
    "                criterion = nn.BCEWithLogitsLoss()  # Binary Cross-Entropy loss with Sigmoid activation\n",
    "                optimizer = optim.Adam(model.parameters(), lr=lr)  # Adam optimizer\n",
    "                \n",
    "                # Train the model\n",
    "                model.train()\n",
    "                num_epochs = 30  # Define the number of epochs \n",
    "                for epoch in tqdm(range(num_epochs), desc=f\"Training {hidden_size_1}-{hidden_size_2}-{lr}\"):\n",
    "                    optimizer.zero_grad()  # Clear previous gradients\n",
    "                    outputs = model(X_train)  # Forward pass through the model\n",
    "                    loss = criterion(outputs, y_train.float().view(-1, 1))  # Compute loss (ensure y_train is float32)\n",
    "                    loss.backward()  # Backpropagation\n",
    "                    optimizer.step()  # Update model weights\n",
    "                \n",
    "                # Evaluate the model on the validation set\n",
    "                model.eval()\n",
    "                with torch.no_grad():  # No need to compute gradients during evaluation\n",
    "                    outputs = model(X_val).squeeze(1)  # Get output and remove the extra dimension\n",
    "                    auc = roc_auc_score(y_val, outputs.numpy())\n",
    "                    f1 = calculate_f1_score(outputs.numpy(), y_val.numpy())  # Convert tensors to numpy for scoring\n",
    "\n",
    "                print(f\"Hidden Size 1: {hidden_size_1}, Hidden Size 2: {hidden_size_2}, Learning Rate: {lr}, AUC: {auc:.4f}, F1 Score: {f1:.4f}\")\n",
    "                \n",
    "                # Update the best model\n",
    "                if auc > best_auc and f1 > best_f1:\n",
    "                    best_auc = auc\n",
    "                    best_f1 = f1\n",
    "                    best_model = model\n",
    "                    best_params = (hidden_size_1, hidden_size_2, lr)\n",
    "                \n",
    "    # Return the best model and its parameters\n",
    "    print(f\"Best AUC: {best_auc:.4f}, Best F1: {best_f1:.4f} with params: {best_params}\")\n",
    "    return best_model, best_params"
   ]
  },
  {
   "cell_type": "code",
   "execution_count": 13,
   "metadata": {},
   "outputs": [
    {
     "name": "stderr",
     "output_type": "stream",
     "text": [
      "Training 16-8-0.001: 100%|█████████████████████| 20/20 [00:02<00:00,  7.72it/s]\n"
     ]
    },
    {
     "name": "stdout",
     "output_type": "stream",
     "text": [
      "Hidden Size 1: 16, Hidden Size 2: 8, Learning Rate: 0.001, AUC: 0.5805, F1 Score: 0.0000\n"
     ]
    },
    {
     "name": "stderr",
     "output_type": "stream",
     "text": [
      "Training 16-8-0.003: 100%|█████████████████████| 20/20 [00:02<00:00,  7.55it/s]\n"
     ]
    },
    {
     "name": "stdout",
     "output_type": "stream",
     "text": [
      "Hidden Size 1: 16, Hidden Size 2: 8, Learning Rate: 0.003, AUC: 0.6178, F1 Score: 0.1780\n"
     ]
    },
    {
     "name": "stderr",
     "output_type": "stream",
     "text": [
      "Training 16-8-0.005: 100%|█████████████████████| 20/20 [00:02<00:00,  7.30it/s]\n"
     ]
    },
    {
     "name": "stdout",
     "output_type": "stream",
     "text": [
      "Hidden Size 1: 16, Hidden Size 2: 8, Learning Rate: 0.005, AUC: 0.6910, F1 Score: 0.2154\n"
     ]
    },
    {
     "name": "stderr",
     "output_type": "stream",
     "text": [
      "Training 16-16-0.001: 100%|████████████████████| 20/20 [00:03<00:00,  5.75it/s]\n"
     ]
    },
    {
     "name": "stdout",
     "output_type": "stream",
     "text": [
      "Hidden Size 1: 16, Hidden Size 2: 16, Learning Rate: 0.001, AUC: 0.6669, F1 Score: 0.1611\n"
     ]
    },
    {
     "name": "stderr",
     "output_type": "stream",
     "text": [
      "Training 16-16-0.003: 100%|████████████████████| 20/20 [00:03<00:00,  5.76it/s]\n"
     ]
    },
    {
     "name": "stdout",
     "output_type": "stream",
     "text": [
      "Hidden Size 1: 16, Hidden Size 2: 16, Learning Rate: 0.003, AUC: 0.6656, F1 Score: 0.2016\n"
     ]
    },
    {
     "name": "stderr",
     "output_type": "stream",
     "text": [
      "Training 16-16-0.005: 100%|████████████████████| 20/20 [00:03<00:00,  5.83it/s]\n"
     ]
    },
    {
     "name": "stdout",
     "output_type": "stream",
     "text": [
      "Hidden Size 1: 16, Hidden Size 2: 16, Learning Rate: 0.005, AUC: 0.6875, F1 Score: 0.2202\n"
     ]
    },
    {
     "name": "stderr",
     "output_type": "stream",
     "text": [
      "Training 16-32-0.001: 100%|████████████████████| 20/20 [00:04<00:00,  4.06it/s]\n"
     ]
    },
    {
     "name": "stdout",
     "output_type": "stream",
     "text": [
      "Hidden Size 1: 16, Hidden Size 2: 32, Learning Rate: 0.001, AUC: 0.6981, F1 Score: 0.1661\n"
     ]
    },
    {
     "name": "stderr",
     "output_type": "stream",
     "text": [
      "Training 16-32-0.003: 100%|████████████████████| 20/20 [00:05<00:00,  3.99it/s]\n"
     ]
    },
    {
     "name": "stdout",
     "output_type": "stream",
     "text": [
      "Hidden Size 1: 16, Hidden Size 2: 32, Learning Rate: 0.003, AUC: 0.6629, F1 Score: 0.2044\n"
     ]
    },
    {
     "name": "stderr",
     "output_type": "stream",
     "text": [
      "Training 16-32-0.005: 100%|████████████████████| 20/20 [00:04<00:00,  4.33it/s]\n"
     ]
    },
    {
     "name": "stdout",
     "output_type": "stream",
     "text": [
      "Hidden Size 1: 16, Hidden Size 2: 32, Learning Rate: 0.005, AUC: 0.6910, F1 Score: 0.2127\n"
     ]
    },
    {
     "name": "stderr",
     "output_type": "stream",
     "text": [
      "Training 32-8-0.001: 100%|█████████████████████| 20/20 [00:04<00:00,  4.61it/s]\n"
     ]
    },
    {
     "name": "stdout",
     "output_type": "stream",
     "text": [
      "Hidden Size 1: 32, Hidden Size 2: 8, Learning Rate: 0.001, AUC: 0.6712, F1 Score: 0.1426\n"
     ]
    },
    {
     "name": "stderr",
     "output_type": "stream",
     "text": [
      "Training 32-8-0.003: 100%|█████████████████████| 20/20 [00:04<00:00,  4.53it/s]\n"
     ]
    },
    {
     "name": "stdout",
     "output_type": "stream",
     "text": [
      "Hidden Size 1: 32, Hidden Size 2: 8, Learning Rate: 0.003, AUC: 0.6910, F1 Score: 0.2175\n"
     ]
    },
    {
     "name": "stderr",
     "output_type": "stream",
     "text": [
      "Training 32-8-0.005: 100%|█████████████████████| 20/20 [00:04<00:00,  4.32it/s]\n"
     ]
    },
    {
     "name": "stdout",
     "output_type": "stream",
     "text": [
      "Hidden Size 1: 32, Hidden Size 2: 8, Learning Rate: 0.005, AUC: 0.6938, F1 Score: 0.2182\n"
     ]
    },
    {
     "name": "stderr",
     "output_type": "stream",
     "text": [
      "Training 32-16-0.001: 100%|████████████████████| 20/20 [00:05<00:00,  3.90it/s]\n"
     ]
    },
    {
     "name": "stdout",
     "output_type": "stream",
     "text": [
      "Hidden Size 1: 32, Hidden Size 2: 16, Learning Rate: 0.001, AUC: 0.6731, F1 Score: 0.2026\n"
     ]
    },
    {
     "name": "stderr",
     "output_type": "stream",
     "text": [
      "Training 32-16-0.003: 100%|████████████████████| 20/20 [00:04<00:00,  4.21it/s]\n"
     ]
    },
    {
     "name": "stdout",
     "output_type": "stream",
     "text": [
      "Hidden Size 1: 32, Hidden Size 2: 16, Learning Rate: 0.003, AUC: 0.6820, F1 Score: 0.2188\n"
     ]
    },
    {
     "name": "stderr",
     "output_type": "stream",
     "text": [
      "Training 32-16-0.005: 100%|████████████████████| 20/20 [00:05<00:00,  3.87it/s]\n"
     ]
    },
    {
     "name": "stdout",
     "output_type": "stream",
     "text": [
      "Hidden Size 1: 32, Hidden Size 2: 16, Learning Rate: 0.005, AUC: 0.6977, F1 Score: 0.2196\n"
     ]
    },
    {
     "name": "stderr",
     "output_type": "stream",
     "text": [
      "Training 32-32-0.001: 100%|████████████████████| 20/20 [00:06<00:00,  3.10it/s]\n"
     ]
    },
    {
     "name": "stdout",
     "output_type": "stream",
     "text": [
      "Hidden Size 1: 32, Hidden Size 2: 32, Learning Rate: 0.001, AUC: 0.6514, F1 Score: 0.2024\n"
     ]
    },
    {
     "name": "stderr",
     "output_type": "stream",
     "text": [
      "Training 32-32-0.003: 100%|████████████████████| 20/20 [00:06<00:00,  3.05it/s]\n"
     ]
    },
    {
     "name": "stdout",
     "output_type": "stream",
     "text": [
      "Hidden Size 1: 32, Hidden Size 2: 32, Learning Rate: 0.003, AUC: 0.6798, F1 Score: 0.2081\n"
     ]
    },
    {
     "name": "stderr",
     "output_type": "stream",
     "text": [
      "Training 32-32-0.005: 100%|████████████████████| 20/20 [00:06<00:00,  3.20it/s]\n"
     ]
    },
    {
     "name": "stdout",
     "output_type": "stream",
     "text": [
      "Hidden Size 1: 32, Hidden Size 2: 32, Learning Rate: 0.005, AUC: 0.7024, F1 Score: 0.2203\n"
     ]
    },
    {
     "name": "stderr",
     "output_type": "stream",
     "text": [
      "Training 64-8-0.001: 100%|█████████████████████| 20/20 [00:07<00:00,  2.86it/s]\n"
     ]
    },
    {
     "name": "stdout",
     "output_type": "stream",
     "text": [
      "Hidden Size 1: 64, Hidden Size 2: 8, Learning Rate: 0.001, AUC: 0.6857, F1 Score: 0.2171\n"
     ]
    },
    {
     "name": "stderr",
     "output_type": "stream",
     "text": [
      "Training 64-8-0.003: 100%|█████████████████████| 20/20 [00:06<00:00,  3.02it/s]\n"
     ]
    },
    {
     "name": "stdout",
     "output_type": "stream",
     "text": [
      "Hidden Size 1: 64, Hidden Size 2: 8, Learning Rate: 0.003, AUC: 0.6955, F1 Score: 0.2201\n"
     ]
    },
    {
     "name": "stderr",
     "output_type": "stream",
     "text": [
      "Training 64-8-0.005: 100%|█████████████████████| 20/20 [00:06<00:00,  2.95it/s]\n"
     ]
    },
    {
     "name": "stdout",
     "output_type": "stream",
     "text": [
      "Hidden Size 1: 64, Hidden Size 2: 8, Learning Rate: 0.005, AUC: 0.6979, F1 Score: 0.2178\n"
     ]
    },
    {
     "name": "stderr",
     "output_type": "stream",
     "text": [
      "Training 64-16-0.001: 100%|████████████████████| 20/20 [00:07<00:00,  2.57it/s]\n"
     ]
    },
    {
     "name": "stdout",
     "output_type": "stream",
     "text": [
      "Hidden Size 1: 64, Hidden Size 2: 16, Learning Rate: 0.001, AUC: 0.6832, F1 Score: 0.1754\n"
     ]
    },
    {
     "name": "stderr",
     "output_type": "stream",
     "text": [
      "Training 64-16-0.003: 100%|████████████████████| 20/20 [00:07<00:00,  2.76it/s]\n"
     ]
    },
    {
     "name": "stdout",
     "output_type": "stream",
     "text": [
      "Hidden Size 1: 64, Hidden Size 2: 16, Learning Rate: 0.003, AUC: 0.7009, F1 Score: 0.2262\n"
     ]
    },
    {
     "name": "stderr",
     "output_type": "stream",
     "text": [
      "Training 64-16-0.005: 100%|████████████████████| 20/20 [00:07<00:00,  2.76it/s]\n"
     ]
    },
    {
     "name": "stdout",
     "output_type": "stream",
     "text": [
      "Hidden Size 1: 64, Hidden Size 2: 16, Learning Rate: 0.005, AUC: 0.7037, F1 Score: 0.2178\n"
     ]
    },
    {
     "name": "stderr",
     "output_type": "stream",
     "text": [
      "Training 64-32-0.001: 100%|████████████████████| 20/20 [00:08<00:00,  2.28it/s]\n"
     ]
    },
    {
     "name": "stdout",
     "output_type": "stream",
     "text": [
      "Hidden Size 1: 64, Hidden Size 2: 32, Learning Rate: 0.001, AUC: 0.6945, F1 Score: 0.2218\n"
     ]
    },
    {
     "name": "stderr",
     "output_type": "stream",
     "text": [
      "Training 64-32-0.003: 100%|████████████████████| 20/20 [00:08<00:00,  2.32it/s]\n"
     ]
    },
    {
     "name": "stdout",
     "output_type": "stream",
     "text": [
      "Hidden Size 1: 64, Hidden Size 2: 32, Learning Rate: 0.003, AUC: 0.6969, F1 Score: 0.2217\n"
     ]
    },
    {
     "name": "stderr",
     "output_type": "stream",
     "text": [
      "Training 64-32-0.005: 100%|████████████████████| 20/20 [00:08<00:00,  2.24it/s]"
     ]
    },
    {
     "name": "stdout",
     "output_type": "stream",
     "text": [
      "Hidden Size 1: 64, Hidden Size 2: 32, Learning Rate: 0.005, AUC: 0.7091, F1 Score: 0.2166\n",
      "Best AUC: 0.7024, Best F1: 0.2203 with params: (32, 32, 0.005)\n"
     ]
    },
    {
     "name": "stderr",
     "output_type": "stream",
     "text": [
      "\n"
     ]
    }
   ],
   "source": [
    "# Define the hidden sizes for both layers and learning rates to test during grid search\n",
    "hidden_sizes_1 = [16, 32, 64]  # Number of neurons in the first hidden layer\n",
    "hidden_sizes_2 = [8, 16, 32]   # Number of neurons in the second hidden layer (can be different from the first)\n",
    "learning_rates = [0.001, 0.003, 0.005]  # Learning rates to test\n",
    "\n",
    "# Perform grid search to find the best model and parameters based on AUC and F1 score\n",
    "best_model, best_params = grid_search(X_res_tensor, y_res_tensor, X_test_tensor, y_test_tensor,\n",
    "                                      hidden_sizes_1, hidden_sizes_2, learning_rates)\n",
    "\n",
    "# Save the best model as the final model\n",
    "final_model = best_model  # The model with the best hyperparameters"
   ]
  },
  {
   "cell_type": "code",
   "execution_count": 14,
   "metadata": {},
   "outputs": [
    {
     "data": {
      "text/plain": [
       "==========================================================================================\n",
       "Layer (type:depth-idx)                   Output Shape              Param #\n",
       "==========================================================================================\n",
       "SimpleNNII                               [1]                       --\n",
       "├─Linear: 1-1                            [32]                      512\n",
       "├─Dropout: 1-2                           [32]                      --\n",
       "├─Linear: 1-3                            [32]                      1,056\n",
       "├─Dropout: 1-4                           [32]                      --\n",
       "├─Linear: 1-5                            [1]                       33\n",
       "├─Sigmoid: 1-6                           [1]                       --\n",
       "==========================================================================================\n",
       "Total params: 1,601\n",
       "Trainable params: 1,601\n",
       "Non-trainable params: 0\n",
       "Total mult-adds (M): 0.05\n",
       "==========================================================================================\n",
       "Input size (MB): 0.00\n",
       "Forward/backward pass size (MB): 0.00\n",
       "Params size (MB): 0.01\n",
       "Estimated Total Size (MB): 0.01\n",
       "=========================================================================================="
      ]
     },
     "execution_count": 14,
     "metadata": {},
     "output_type": "execute_result"
    }
   ],
   "source": [
    "# Set the final model and hyperparameters (hidden size for both layers and learning rate)\n",
    "model = final_model\n",
    "hidden_size_1 = best_params[0]  # Chosen first hidden size from grid search\n",
    "hidden_size_2 = best_params[1]  # Chosen second hidden size from grid search\n",
    "lr = best_params[2]  # Chosen learning rate from grid search\n",
    "\n",
    "# Display the model architecture summary\n",
    "summary(model, input_size=(input_size,))  # Input size should match the input data's feature count"
   ]
  },
  {
   "cell_type": "code",
   "execution_count": 15,
   "metadata": {},
   "outputs": [
    {
     "name": "stderr",
     "output_type": "stream",
     "text": [
      "Training Epochs:  17%|████▎                     | 5/30 [00:01<00:08,  3.05it/s]"
     ]
    },
    {
     "name": "stdout",
     "output_type": "stream",
     "text": [
      "Epoch [5/30], Loss: 0.5901, F1 Score: 0.7451\n"
     ]
    },
    {
     "name": "stderr",
     "output_type": "stream",
     "text": [
      "Training Epochs:  33%|████████▎                | 10/30 [00:03<00:05,  3.44it/s]"
     ]
    },
    {
     "name": "stdout",
     "output_type": "stream",
     "text": [
      "Epoch [10/30], Loss: 0.5706, F1 Score: 0.7700\n"
     ]
    },
    {
     "name": "stderr",
     "output_type": "stream",
     "text": [
      "Training Epochs:  50%|████████████▌            | 15/30 [00:04<00:04,  3.54it/s]"
     ]
    },
    {
     "name": "stdout",
     "output_type": "stream",
     "text": [
      "Epoch [15/30], Loss: 0.5715, F1 Score: 0.7741\n"
     ]
    },
    {
     "name": "stderr",
     "output_type": "stream",
     "text": [
      "Training Epochs:  67%|████████████████▋        | 20/30 [00:06<00:03,  3.13it/s]"
     ]
    },
    {
     "name": "stdout",
     "output_type": "stream",
     "text": [
      "Epoch [20/30], Loss: 0.5634, F1 Score: 0.7734\n"
     ]
    },
    {
     "name": "stderr",
     "output_type": "stream",
     "text": [
      "Training Epochs:  83%|████████████████████▊    | 25/30 [00:07<00:01,  3.13it/s]"
     ]
    },
    {
     "name": "stdout",
     "output_type": "stream",
     "text": [
      "Epoch [25/30], Loss: 0.5579, F1 Score: 0.7691\n"
     ]
    },
    {
     "name": "stderr",
     "output_type": "stream",
     "text": [
      "Training Epochs: 100%|█████████████████████████| 30/30 [00:09<00:00,  3.16it/s]"
     ]
    },
    {
     "name": "stdout",
     "output_type": "stream",
     "text": [
      "Epoch [30/30], Loss: 0.5545, F1 Score: 0.7648\n"
     ]
    },
    {
     "name": "stderr",
     "output_type": "stream",
     "text": [
      "\n"
     ]
    }
   ],
   "source": [
    "# Loss function and optimizer\n",
    "criterion = nn.BCELoss()  # Binary Cross-Entropy loss (applied after sigmoid)\n",
    "optimizer = optim.Adam(model.parameters(), lr=lr)  # Adam optimizer\n",
    "\n",
    "# Optional: move the model and criterion to device (e.g., CUDA if available)\n",
    "# device = torch.device('cuda' if torch.cuda.is_available() else 'cpu')\n",
    "# model = model.to(device)\n",
    "# criterion = criterion.to(device)\n",
    "\n",
    "epochs = 30  # Number of epochs\n",
    "threshold = 0.5  # Threshold for converting output to binary (0 or 1)\n",
    "\n",
    "# Define F1 score calculation function\n",
    "def calculate_f1_score(pred, y):\n",
    "    # Convert predictions to binary values based on a threshold\n",
    "    pred = (pred >= threshold).float()\n",
    "\n",
    "    # Calculate True Positives (TP), False Positives (FP), and False Negatives (FN)    \n",
    "    TP = (pred * y).sum()  # Correctly predicted positive examples\n",
    "    FP = (pred * (1 - y)).sum()  # Incorrectly predicted as positive\n",
    "    FN = ((1 - pred) * y).sum()  # Incorrectly predicted as negative\n",
    "\n",
    "    # Precision and Recall\n",
    "    precision = TP / (TP + FP) if TP + FP > 0 else torch.tensor(0.0)  # Avoid division by zero\n",
    "    recall = TP / (TP + FN) if TP + FN > 0 else torch.tensor(0.0)  # Avoid division by zero\n",
    "\n",
    "    # F1 Score\n",
    "    f1 = 2 * (precision * recall) / (precision + recall) if precision + recall > 0 else torch.tensor(0.0)  # Avoid division by zero\n",
    "    return f1\n",
    "\n",
    "# Wrapping the loop with tqdm for progress visualization\n",
    "with tqdm(range(epochs), desc='Training Epochs', dynamic_ncols=True, leave=True) as pbar:\n",
    "    \n",
    "    for epoch in pbar:\n",
    "        model.train()  # Set model to training mode\n",
    "        optimizer.zero_grad()  # Zero out the gradients from the previous iteration\n",
    "\n",
    "        # Forward pass\n",
    "        outputs = model(X_res_tensor).squeeze(1)  # Model output (1D tensor)\n",
    "        loss = criterion(outputs, y_res_tensor.float())  # Calculate Binary Cross-Entropy loss\n",
    "\n",
    "        # Calculate F1 score\n",
    "        f1 = calculate_f1_score(outputs, y_res_tensor)\n",
    "\n",
    "        # Backpropagate the loss and update model weights\n",
    "        loss.backward()\n",
    "        optimizer.step()\n",
    "\n",
    "        # gradient clipping to avoid exploding gradients\n",
    "        torch.nn.utils.clip_grad_norm_(model.parameters(), max_norm=1.0)  # Gradient clipping\n",
    "        \n",
    "        # Print loss and F1 score every 5 epochs for monitoring\n",
    "        if (epoch + 1) % 5 == 0:\n",
    "            pbar.write(f'Epoch [{epoch+1}/{epochs}], Loss: {loss.item():.4f}, F1 Score: {f1.item():.4f}')"
   ]
  },
  {
   "cell_type": "code",
   "execution_count": 16,
   "metadata": {},
   "outputs": [
    {
     "name": "stdout",
     "output_type": "stream",
     "text": [
      "Mean F1 score: 0.7802\n",
      "Standard Deviation of F1 score: 0.0033\n",
      "List of F1 Score from StratifiedKFold cross-validation: \n",
      "[0.7783503157568479, 0.7862474466907203, 0.7805505432487426, 0.7764411509960543, 0.7791906620801607]\n",
      "\n",
      "Average AUC Score: 0.7948\n",
      "Standard Deviation of AUC score: 0.0026\n",
      "List of AUC Score from StratifiedKFold cross-validation: \n",
      "[0.7947398433926931, 0.7984920674023123, 0.7962651597569743, 0.7905403350154542, 0.7940282349726028]\n"
     ]
    },
    {
     "data": {
      "image/png": "[encoded data removed]",
      "text/plain": [
       "<Figure size 576x432 with 1 Axes>"
      ]
     },
     "metadata": {
      "needs_background": "light"
     },
     "output_type": "display_data"
    }
   ],
   "source": [
    "# Assuming X and y as features and target\n",
    "X = X_train_res \n",
    "y = y_train_res  \n",
    "\n",
    "# Stratified K-Fold Cross Validation\n",
    "skf = StratifiedKFold(n_splits=5, shuffle=True, random_state=123)\n",
    "\n",
    "f1_scores = []  # List to store F1 scores for each fold\n",
    "roc_auc_scores = []  # List to store AUC scores for each fold\n",
    "true_labels = []  # List to store true labels for ROC curve\n",
    "pred_probs = []  # List to store predicted probabilities for ROC curve\n",
    "\n",
    "# Loop through each fold\n",
    "for train_idx, val_idx in skf.split(X, y):\n",
    "    X_train_fold, X_val_fold = X[train_idx], X[val_idx]\n",
    "    y_train_fold, y_val_fold = y[train_idx], y[val_idx]\n",
    "    \n",
    "    # Convert data to PyTorch tensors\n",
    "    X_train_tensor = torch.tensor(X_train_fold, dtype=torch.float32)\n",
    "    y_train_tensor = torch.tensor(y_train_fold.values, dtype=torch.float32)\n",
    "    X_val_tensor = torch.tensor(X_val_fold, dtype=torch.float32)\n",
    "    y_val_tensor = torch.tensor(y_val_fold.values, dtype=torch.float32)\n",
    "    \n",
    "    # Initialize the model\n",
    "    model = SimpleNNII(input_size=X_train_fold.shape[1])\n",
    "    \n",
    "    # Loss function and optimizer\n",
    "    criterion = nn.BCELoss()\n",
    "    optimizer = optim.Adam(model.parameters(), lr=lr)\n",
    "    \n",
    "    # Training loop\n",
    "    num_epochs = epochs # Number of epochs for training\n",
    "    \n",
    "    for epoch in range(num_epochs):\n",
    "        model.train()  # Set model to training mode\n",
    "        optimizer.zero_grad()  # Zero out gradients from previous iteration\n",
    "\n",
    "        # Forward pass\n",
    "        outputs = model(X_train_tensor).squeeze(1)  # Get model predictions\n",
    "        loss = criterion(outputs, y_train_tensor)  # Calculate the loss\n",
    "\n",
    "        # Backward pass and optimization\n",
    "        loss.backward()  # Backpropagate the loss\n",
    "        optimizer.step()  # Update model parameters\n",
    "\n",
    "    # Evaluate the model after training\n",
    "    model.eval()\n",
    "    with torch.no_grad():\n",
    "        # Predict probabilities on the validation set\n",
    "        outputs = model(X_val_tensor).squeeze(1)\n",
    "        predicted = (outputs >= threshold).float()  # Convert probabilities to binary predictions\n",
    "\n",
    "        # Calculate F1 Score\n",
    "        f1 = f1_score(y_val_tensor.numpy(), predicted.numpy())\n",
    "        f1_scores.append(f1)\n",
    "\n",
    "        # Calculate ROC AUC Score\n",
    "        auc_score = roc_auc_score(y_val_tensor.numpy(), outputs.numpy())\n",
    "        roc_auc_scores.append(auc_score)\n",
    "\n",
    "        # Store true labels and predicted probabilities for ROC curve\n",
    "        true_labels.extend(y_val_tensor.numpy())\n",
    "        pred_probs.extend(outputs.numpy())\n",
    "\n",
    "# Calculate the average metrics over all folds\n",
    "print(f'Mean F1 score: {np.mean(f1_scores):.4f}')\n",
    "print(f'Standard Deviation of F1 score: {np.std(f1_scores):.4f}')\n",
    "print(f'List of F1 Score from StratifiedKFold cross-validation: \\n{f1_scores}')\n",
    "print()\n",
    "print(f\"Average AUC Score: {np.mean(roc_auc_scores):.4f}\")\n",
    "print(f'Standard Deviation of AUC score: {np.std(roc_auc_scores):.4f}')\n",
    "print(f'List of AUC Score from StratifiedKFold cross-validation: \\n{roc_auc_scores}')\n",
    "\n",
    "# Calculate ROC curve\n",
    "fpr, tpr, thresholds = roc_curve(true_labels, pred_probs)\n",
    "roc_auc = auc(fpr, tpr)\n",
    "\n",
    "# Plot ROC curve\n",
    "plt.figure(figsize=(8, 6))\n",
    "plt.plot(fpr, tpr, color='navy', lw=2, label=f'ROC curve (AUC = {roc_auc:.2f})')\n",
    "plt.plot([0, 1], [0, 1], color='blue', lw=2, linestyle='--')  # Diagonal line (random classifier)\n",
    "plt.xlim([0.0, 1.0])\n",
    "plt.ylim([0.0, 1.05])\n",
    "plt.xlabel('False Positive Rate')\n",
    "plt.ylabel('True Positive Rate')\n",
    "plt.title('Receiver Operating Characteristic (ROC) Curve')\n",
    "plt.legend(loc='lower right')\n",
    "plt.show()"
   ]
  },
  {
   "cell_type": "code",
   "execution_count": 17,
   "metadata": {},
   "outputs": [
    {
     "name": "stdout",
     "output_type": "stream",
     "text": [
      "Model saved successfully.\n"
     ]
    }
   ],
   "source": [
    "# Save the model\n",
    "torch.save(model.state_dict(), 'trained_model_II.pth')\n",
    "print(\"Model saved successfully.\") # Confirmation message"
   ]
  },
  {
   "cell_type": "code",
   "execution_count": 18,
   "metadata": {},
   "outputs": [
    {
     "name": "stdout",
     "output_type": "stream",
     "text": [
      "Model loaded successfully\n"
     ]
    }
   ],
   "source": [
    "# Inference (for on the test data set)\n",
    "# Load the test dataset\n",
    "dftest = pd.read_csv(\"D:/processed_anomaly_testing_loan_data.csv\", header=0)\n",
    "\n",
    "X_new = dftest.drop(columns=['anomaly_score', 'anomaly', 'bad_flag'], errors='ignore')\n",
    "\n",
    "# Apply the same scaling as during training\n",
    "scaler = StandardScaler()  \n",
    "X_new_scaled = scaler.fit_transform(X_new)  # Scale the test data set\n",
    "\n",
    "# Convert the new data to a PyTorch tensor\n",
    "X_new_tensor = torch.tensor(X_new_scaled, dtype=torch.float32)\n",
    "\n",
    "# Load the previously saved model for inference\n",
    "model = SimpleNNII(input_size=X_new_scaled.shape[1])  # Initialize model\n",
    "\n",
    "try:\n",
    "    model.load_state_dict(torch.load('trained_model_II.pth'))\n",
    "    model.eval()  # Set model to evaluation mode\n",
    "    print(\"Model loaded successfully\")\n",
    "except FileNotFoundError:\n",
    "    print(f\"Error: Model file not found at {model_path}\") # Handle file not found error"
   ]
  },
  {
   "cell_type": "code",
   "execution_count": 19,
   "metadata": {},
   "outputs": [
    {
     "name": "stdout",
     "output_type": "stream",
     "text": [
      "the fist 100 predected bad_flag:\n",
      "[0, 0, 0, 0, 0, 0, 0, 0, 0, 0, 0, 0, 0, 0, 0, 0, 0, 0, 0, 0, 0, 0, 1, 0, 0, 0, 0, 0, 0, 0, 0, 0, 0, 0, 0, 0, 0, 0, 0, 0, 0, 0, 0, 0, 0, 0, 0, 0, 0, 0, 0, 0, 0, 0, 0, 0, 0, 0, 0, 0, 0, 0, 0, 0, 0, 0, 0, 0, 0, 0, 0, 0, 0, 0, 0, 0, 0, 0, 0, 0, 0, 0, 0, 0, 0, 0, 0, 0, 0, 0, 0, 0, 0, 0, 0, 0, 0, 0, 0, 0]\n",
      "\n",
      "the last 100 predected bad_flag:\n",
      "[0, 1, 1, 0, 0, 1, 0, 0, 0, 1, 0, 1, 1, 0, 0, 1, 0, 1, 0, 1, 0, 0, 0, 1, 1, 0, 1, 1, 1, 1, 0, 1, 0, 1, 0, 1, 0, 1, 0, 0, 1, 1, 0, 0, 0, 1, 1, 1, 0, 0, 1, 1, 0, 0, 0, 1, 1, 1, 1, 1, 1, 1, 0, 1, 0, 0, 0, 1, 1, 1, 0, 0, 1, 1, 0, 1, 0, 1, 1, 1, 0, 1, 1, 0, 1, 0, 1, 1, 1, 1, 1, 1, 0, 1, 1, 1, 1, 0, 1, 1]\n"
     ]
    }
   ],
   "source": [
    "threshold  = 0.85 # Set the threshold for binary classification\n",
    "\n",
    "# Make predictions\n",
    "with torch.no_grad():  # No gradient computation needed for inference\n",
    "    outputs = model(X_new_tensor).squeeze(1)  # Get the model's output probabilities\n",
    "    predictions = (outputs >= threshold).float()  # Convert output probabilities to binary predictions (0 or 1)\n",
    "\n",
    "    # Convert the tensor to a list of predicted classes (0s and 1s)\n",
    "    predictions_list = predictions.squeeze().tolist()  # Convert tensor to list\n",
    "    \n",
    "    # Convert the list values to integers for better readability\n",
    "    predictions_int_list = [int(x) for x in predictions_list]\n",
    "    # Display the first and last 100 predictions for inspection\n",
    "    print(f'the fist 100 predected bad_flag:\\n{predictions_int_list [:100]}')\n",
    "    print(f'\\nthe last 100 predected bad_flag:\\n{predictions_int_list [-100:]}')"
   ]
  },
  {
   "cell_type": "code",
   "execution_count": 20,
   "metadata": {},
   "outputs": [
    {
     "name": "stdout",
     "output_type": "stream",
     "text": [
      "the ratio of 1:0 in the predecited test df: 0.12845227062094533\n",
      "\n",
      "the ratio of 1:0 in the original train df: 0.06938298183364563\n"
     ]
    }
   ],
   "source": [
    "# check the ration of bad_flag 1:0 in the train and test df\n",
    "\n",
    "# Count the number of predicted 1's (bad_flag = 1) in the predictions list\n",
    "predtest = sum(1 for i in predictions_int_list if i == 1)\n",
    "lentest = len(predictions_int_list)\n",
    "print(f'the ratio of 1:0 in the predecited test df: {predtest / lentest}')\n",
    "\n",
    "# Count the number of 1's (bad_flag = 1) in the original training dataset\n",
    "predtrain = sum(1 for i in list(y_train) if i == 1)\n",
    "lentrain = len(list(y_train))\n",
    "print(f'\\nthe ratio of 1:0 in the original train df: {predtrain / lentrain}')"
   ]
  },
  {
   "cell_type": "code",
   "execution_count": 21,
   "metadata": {},
   "outputs": [
    {
     "data": {
      "text/html": [
       "<div>\n",
       "<style scoped>\n",
       "    .dataframe tbody tr th:only-of-type {\n",
       "        vertical-align: middle;\n",
       "    }\n",
       "\n",
       "    .dataframe tbody tr th {\n",
       "        vertical-align: top;\n",
       "    }\n",
       "\n",
       "    .dataframe thead th {\n",
       "        text-align: right;\n",
       "    }\n",
       "</style>\n",
       "<table border=\"1\" class=\"dataframe\">\n",
       "  <thead>\n",
       "    <tr style=\"text-align: right;\">\n",
       "      <th></th>\n",
       "      <th>id</th>\n",
       "      <th>member_id</th>\n",
       "      <th>loan_amnt</th>\n",
       "      <th>int_rate</th>\n",
       "      <th>annual_inc</th>\n",
       "      <th>percent_bc_gt_75</th>\n",
       "      <th>bc_util</th>\n",
       "      <th>dti</th>\n",
       "      <th>inq_last_6mths</th>\n",
       "      <th>mths_since_recent_inq</th>\n",
       "      <th>revol_util</th>\n",
       "      <th>total_bc_limit</th>\n",
       "      <th>tot_hi_cred_lim</th>\n",
       "      <th>tot_cur_bal</th>\n",
       "      <th>internal_score</th>\n",
       "      <th>anomaly_score</th>\n",
       "      <th>anomaly</th>\n",
       "      <th>bad_flag</th>\n",
       "    </tr>\n",
       "  </thead>\n",
       "  <tbody>\n",
       "    <tr>\n",
       "      <th>0</th>\n",
       "      <td>20000001</td>\n",
       "      <td>22419852</td>\n",
       "      <td>10000</td>\n",
       "      <td>22.15</td>\n",
       "      <td>37000.0</td>\n",
       "      <td>80.0</td>\n",
       "      <td>83.0</td>\n",
       "      <td>28.51</td>\n",
       "      <td>1</td>\n",
       "      <td>3.0</td>\n",
       "      <td>73.1</td>\n",
       "      <td>16200</td>\n",
       "      <td>14877.170280</td>\n",
       "      <td>36809</td>\n",
       "      <td>131</td>\n",
       "      <td>0.115904</td>\n",
       "      <td>1</td>\n",
       "      <td>0</td>\n",
       "    </tr>\n",
       "    <tr>\n",
       "      <th>1</th>\n",
       "      <td>20000002</td>\n",
       "      <td>22349118</td>\n",
       "      <td>1400</td>\n",
       "      <td>18.24</td>\n",
       "      <td>41000.0</td>\n",
       "      <td>0.0</td>\n",
       "      <td>0.0</td>\n",
       "      <td>26.58</td>\n",
       "      <td>0</td>\n",
       "      <td>9.0</td>\n",
       "      <td>11.5</td>\n",
       "      <td>4000</td>\n",
       "      <td>4097.304770</td>\n",
       "      <td>19536</td>\n",
       "      <td>19</td>\n",
       "      <td>0.032762</td>\n",
       "      <td>1</td>\n",
       "      <td>0</td>\n",
       "    </tr>\n",
       "    <tr>\n",
       "      <th>2</th>\n",
       "      <td>20000003</td>\n",
       "      <td>22398818</td>\n",
       "      <td>7000</td>\n",
       "      <td>12.49</td>\n",
       "      <td>68900.0</td>\n",
       "      <td>60.0</td>\n",
       "      <td>75.9</td>\n",
       "      <td>6.60</td>\n",
       "      <td>0</td>\n",
       "      <td>11.0</td>\n",
       "      <td>48.1</td>\n",
       "      <td>11900</td>\n",
       "      <td>12688.495160</td>\n",
       "      <td>241465</td>\n",
       "      <td>92</td>\n",
       "      <td>0.124508</td>\n",
       "      <td>1</td>\n",
       "      <td>0</td>\n",
       "    </tr>\n",
       "    <tr>\n",
       "      <th>3</th>\n",
       "      <td>20000004</td>\n",
       "      <td>22419015</td>\n",
       "      <td>18000</td>\n",
       "      <td>16.29</td>\n",
       "      <td>41000.0</td>\n",
       "      <td>33.3</td>\n",
       "      <td>61.1</td>\n",
       "      <td>20.61</td>\n",
       "      <td>1</td>\n",
       "      <td>0.0</td>\n",
       "      <td>38.1</td>\n",
       "      <td>7600</td>\n",
       "      <td>7908.799817</td>\n",
       "      <td>179757</td>\n",
       "      <td>235</td>\n",
       "      <td>0.144529</td>\n",
       "      <td>1</td>\n",
       "      <td>0</td>\n",
       "    </tr>\n",
       "    <tr>\n",
       "      <th>4</th>\n",
       "      <td>20000005</td>\n",
       "      <td>22388614</td>\n",
       "      <td>12000</td>\n",
       "      <td>12.99</td>\n",
       "      <td>64000.0</td>\n",
       "      <td>75.0</td>\n",
       "      <td>67.0</td>\n",
       "      <td>24.61</td>\n",
       "      <td>0</td>\n",
       "      <td>6.0</td>\n",
       "      <td>57.9</td>\n",
       "      <td>21000</td>\n",
       "      <td>19378.561060</td>\n",
       "      <td>31953</td>\n",
       "      <td>157</td>\n",
       "      <td>0.161886</td>\n",
       "      <td>1</td>\n",
       "      <td>0</td>\n",
       "    </tr>\n",
       "  </tbody>\n",
       "</table>\n",
       "</div>"
      ],
      "text/plain": [
       "         id  member_id  loan_amnt  int_rate  annual_inc  percent_bc_gt_75  \\\n",
       "0  20000001   22419852      10000     22.15     37000.0              80.0   \n",
       "1  20000002   22349118       1400     18.24     41000.0               0.0   \n",
       "2  20000003   22398818       7000     12.49     68900.0              60.0   \n",
       "3  20000004   22419015      18000     16.29     41000.0              33.3   \n",
       "4  20000005   22388614      12000     12.99     64000.0              75.0   \n",
       "\n",
       "   bc_util    dti  inq_last_6mths  mths_since_recent_inq  revol_util  \\\n",
       "0     83.0  28.51               1                    3.0        73.1   \n",
       "1      0.0  26.58               0                    9.0        11.5   \n",
       "2     75.9   6.60               0                   11.0        48.1   \n",
       "3     61.1  20.61               1                    0.0        38.1   \n",
       "4     67.0  24.61               0                    6.0        57.9   \n",
       "\n",
       "   total_bc_limit  tot_hi_cred_lim  tot_cur_bal  internal_score  \\\n",
       "0           16200     14877.170280        36809             131   \n",
       "1            4000      4097.304770        19536              19   \n",
       "2           11900     12688.495160       241465              92   \n",
       "3            7600      7908.799817       179757             235   \n",
       "4           21000     19378.561060        31953             157   \n",
       "\n",
       "   anomaly_score  anomaly  bad_flag  \n",
       "0       0.115904        1         0  \n",
       "1       0.032762        1         0  \n",
       "2       0.124508        1         0  \n",
       "3       0.144529        1         0  \n",
       "4       0.161886        1         0  "
      ]
     },
     "execution_count": 21,
     "metadata": {},
     "output_type": "execute_result"
    }
   ],
   "source": [
    "dftest['bad_flag'] = predictions_int_list\n",
    "dftest.head()"
   ]
  },
  {
   "cell_type": "code",
   "execution_count": null,
   "metadata": {},
   "outputs": [],
   "source": []
  }
 ],
 "metadata": {
  "kernelspec": {
   "display_name": "Python 3",
   "language": "python",
   "name": "python3"
  },
  "language_info": {
   "codemirror_mode": {
    "name": "ipython",
    "version": 3
   },
   "file_extension": ".py",
   "mimetype": "text/x-python",
   "name": "python",
   "nbconvert_exporter": "python",
   "pygments_lexer": "ipython3",
   "version": "3.7.4"
  },
  "vp": {
   "vp_config_version": "1.0.0",
   "vp_menu_width": 273,
   "vp_note_display": false,
   "vp_note_width": 0,
   "vp_position": {
    "width": 278
   },
   "vp_section_display": false,
   "vp_signature": "VisualPython"
  }
 },
 "nbformat": 4,
 "nbformat_minor": 2
}
