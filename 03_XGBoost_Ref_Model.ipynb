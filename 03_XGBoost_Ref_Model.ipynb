{
 "cells": [
  {
   "cell_type": "code",
   "execution_count": 2,
   "metadata": {},
   "outputs": [],
   "source": [
    "import warnings\n",
    "warnings.filterwarnings(\"ignore\") # Suppress warnings, useful for cleaner output\n",
    "\n",
    "import pandas as pd\n",
    "import numpy as np\n",
    "from sklearn.model_selection import train_test_split\n",
    "from imblearn.combine import SMOTEENN\n",
    "import xgboost as xgb  \n",
    "from sklearn.model_selection import StratifiedKFold\n",
    "from sklearn.metrics import classification_report, accuracy_score, f1_score, confusion_matrix\n",
    "from sklearn.metrics import f1_score, classification_report, roc_auc_score, roc_curve, auc\n",
    "import matplotlib.pyplot as plt\n",
    "import seaborn as sns\n",
    "from collections import Counter\n"
   ]
  },
  {
   "cell_type": "code",
   "execution_count": 3,
   "metadata": {},
   "outputs": [
    {
     "data": {
      "text/html": [
       "<div>\n",
       "<style scoped>\n",
       "    .dataframe tbody tr th:only-of-type {\n",
       "        vertical-align: middle;\n",
       "    }\n",
       "\n",
       "    .dataframe tbody tr th {\n",
       "        vertical-align: top;\n",
       "    }\n",
       "\n",
       "    .dataframe thead th {\n",
       "        text-align: right;\n",
       "    }\n",
       "</style>\n",
       "<table border=\"1\" class=\"dataframe\">\n",
       "  <thead>\n",
       "    <tr style=\"text-align: right;\">\n",
       "      <th></th>\n",
       "      <th>id</th>\n",
       "      <th>member_id</th>\n",
       "      <th>loan_amnt</th>\n",
       "      <th>int_rate</th>\n",
       "      <th>annual_inc</th>\n",
       "      <th>percent_bc_gt_75</th>\n",
       "      <th>bc_util</th>\n",
       "      <th>dti</th>\n",
       "      <th>inq_last_6mths</th>\n",
       "      <th>mths_since_recent_inq</th>\n",
       "      <th>revol_util</th>\n",
       "      <th>total_bc_limit</th>\n",
       "      <th>tot_hi_cred_lim</th>\n",
       "      <th>tot_cur_bal</th>\n",
       "      <th>internal_score</th>\n",
       "      <th>bad_flag</th>\n",
       "      <th>anomaly_score</th>\n",
       "      <th>anomaly</th>\n",
       "    </tr>\n",
       "  </thead>\n",
       "  <tbody>\n",
       "    <tr>\n",
       "      <th>0</th>\n",
       "      <td>10000001</td>\n",
       "      <td>11983056.0</td>\n",
       "      <td>7550</td>\n",
       "      <td>16.24</td>\n",
       "      <td>28000.0</td>\n",
       "      <td>100.0</td>\n",
       "      <td>96.0</td>\n",
       "      <td>8.40</td>\n",
       "      <td>0.0</td>\n",
       "      <td>17.0</td>\n",
       "      <td>72.0</td>\n",
       "      <td>4000.0</td>\n",
       "      <td>3828.953801</td>\n",
       "      <td>5759.0</td>\n",
       "      <td>99</td>\n",
       "      <td>0.0</td>\n",
       "      <td>0.105777</td>\n",
       "      <td>1</td>\n",
       "    </tr>\n",
       "    <tr>\n",
       "      <th>1</th>\n",
       "      <td>10000002</td>\n",
       "      <td>12002921.0</td>\n",
       "      <td>27050</td>\n",
       "      <td>10.99</td>\n",
       "      <td>55000.0</td>\n",
       "      <td>25.0</td>\n",
       "      <td>53.9</td>\n",
       "      <td>22.87</td>\n",
       "      <td>0.0</td>\n",
       "      <td>8.0</td>\n",
       "      <td>61.2</td>\n",
       "      <td>35700.0</td>\n",
       "      <td>34359.940730</td>\n",
       "      <td>114834.0</td>\n",
       "      <td>353</td>\n",
       "      <td>0.0</td>\n",
       "      <td>0.107448</td>\n",
       "      <td>1</td>\n",
       "    </tr>\n",
       "    <tr>\n",
       "      <th>2</th>\n",
       "      <td>10000003</td>\n",
       "      <td>11983096.0</td>\n",
       "      <td>12000</td>\n",
       "      <td>10.99</td>\n",
       "      <td>60000.0</td>\n",
       "      <td>0.0</td>\n",
       "      <td>15.9</td>\n",
       "      <td>4.62</td>\n",
       "      <td>1.0</td>\n",
       "      <td>3.0</td>\n",
       "      <td>24.0</td>\n",
       "      <td>18100.0</td>\n",
       "      <td>16416.617760</td>\n",
       "      <td>7137.0</td>\n",
       "      <td>157</td>\n",
       "      <td>0.0</td>\n",
       "      <td>0.117730</td>\n",
       "      <td>1</td>\n",
       "    </tr>\n",
       "    <tr>\n",
       "      <th>3</th>\n",
       "      <td>10000004</td>\n",
       "      <td>12003142.0</td>\n",
       "      <td>28000</td>\n",
       "      <td>7.62</td>\n",
       "      <td>325000.0</td>\n",
       "      <td>16.7</td>\n",
       "      <td>67.1</td>\n",
       "      <td>18.55</td>\n",
       "      <td>1.0</td>\n",
       "      <td>3.0</td>\n",
       "      <td>54.6</td>\n",
       "      <td>42200.0</td>\n",
       "      <td>38014.149760</td>\n",
       "      <td>799592.0</td>\n",
       "      <td>365</td>\n",
       "      <td>0.0</td>\n",
       "      <td>-0.006403</td>\n",
       "      <td>-1</td>\n",
       "    </tr>\n",
       "    <tr>\n",
       "      <th>4</th>\n",
       "      <td>10000005</td>\n",
       "      <td>11993233.0</td>\n",
       "      <td>12000</td>\n",
       "      <td>13.53</td>\n",
       "      <td>40000.0</td>\n",
       "      <td>33.3</td>\n",
       "      <td>79.6</td>\n",
       "      <td>16.94</td>\n",
       "      <td>0.0</td>\n",
       "      <td>17.0</td>\n",
       "      <td>68.8</td>\n",
       "      <td>7000.0</td>\n",
       "      <td>6471.462236</td>\n",
       "      <td>13605.0</td>\n",
       "      <td>157</td>\n",
       "      <td>0.0</td>\n",
       "      <td>0.135942</td>\n",
       "      <td>1</td>\n",
       "    </tr>\n",
       "  </tbody>\n",
       "</table>\n",
       "</div>"
      ],
      "text/plain": [
       "         id   member_id  loan_amnt  int_rate  annual_inc  percent_bc_gt_75  \\\n",
       "0  10000001  11983056.0       7550     16.24     28000.0             100.0   \n",
       "1  10000002  12002921.0      27050     10.99     55000.0              25.0   \n",
       "2  10000003  11983096.0      12000     10.99     60000.0               0.0   \n",
       "3  10000004  12003142.0      28000      7.62    325000.0              16.7   \n",
       "4  10000005  11993233.0      12000     13.53     40000.0              33.3   \n",
       "\n",
       "   bc_util    dti  inq_last_6mths  mths_since_recent_inq  revol_util  \\\n",
       "0     96.0   8.40             0.0                   17.0        72.0   \n",
       "1     53.9  22.87             0.0                    8.0        61.2   \n",
       "2     15.9   4.62             1.0                    3.0        24.0   \n",
       "3     67.1  18.55             1.0                    3.0        54.6   \n",
       "4     79.6  16.94             0.0                   17.0        68.8   \n",
       "\n",
       "   total_bc_limit  tot_hi_cred_lim  tot_cur_bal  internal_score  bad_flag  \\\n",
       "0          4000.0      3828.953801       5759.0              99       0.0   \n",
       "1         35700.0     34359.940730     114834.0             353       0.0   \n",
       "2         18100.0     16416.617760       7137.0             157       0.0   \n",
       "3         42200.0     38014.149760     799592.0             365       0.0   \n",
       "4          7000.0      6471.462236      13605.0             157       0.0   \n",
       "\n",
       "   anomaly_score  anomaly  \n",
       "0       0.105777        1  \n",
       "1       0.107448        1  \n",
       "2       0.117730        1  \n",
       "3      -0.006403       -1  \n",
       "4       0.135942        1  "
      ]
     },
     "execution_count": 3,
     "metadata": {},
     "output_type": "execute_result"
    }
   ],
   "source": [
    "# Load and show the dataset from the specified path\n",
    "df = pd.read_csv(\"D:/processed_anomaly_training_loan_data.csv\", header=0)\n",
    "df.head()"
   ]
  },
  {
   "cell_type": "code",
   "execution_count": 4,
   "metadata": {},
   "outputs": [
    {
     "name": "stdout",
     "output_type": "stream",
     "text": [
      "Minority class ratio: 0.0698\n",
      "Majority class ratio: 0.9302\n"
     ]
    },
    {
     "data": {
      "image/png": "[encoded data removed]",
      "text/plain": [
       "<Figure size 432x288 with 1 Axes>"
      ]
     },
     "metadata": {
      "needs_background": "light"
     },
     "output_type": "display_data"
    }
   ],
   "source": [
    "# Count the number of samples in each class\n",
    "minority_count = df[df['bad_flag'] == 1].shape[0]\n",
    "majority_count = df[df['bad_flag'] == 0].shape[0]\n",
    "total_count = len(df)\n",
    "\n",
    "# Calculate the proportions of each class\n",
    "minority_ratio = minority_count / total_count  # Proportion of the minority class\n",
    "majority_ratio = majority_count / total_count  # Proportion of the majority class\n",
    "\n",
    "print(f\"Minority class ratio: {minority_ratio:.4f}\")\n",
    "print(f\"Majority class ratio: {majority_ratio:.4f}\")\n",
    "\n",
    "# Plot class distribution\n",
    "plt.figure(figsize=(6, 4))\n",
    "df['bad_flag'].value_counts().plot(kind='bar', color=['#FF6347', '#4682B4'])\n",
    "plt.title(\"Class Distribution\")\n",
    "plt.xlabel(\"Class (0 = Majority, 1 = Minority)\")\n",
    "plt.ylabel(\"Count\")\n",
    "plt.xticks([0, 1], ['Majority (0)', 'Minority (1)'], rotation=0)\n",
    "plt.show()"
   ]
  },
  {
   "cell_type": "code",
   "execution_count": 5,
   "metadata": {},
   "outputs": [
    {
     "name": "stdout",
     "output_type": "stream",
     "text": [
      "shape of original training set: (150498,)\n",
      "shape of SMOTE training set: (215027,)\n",
      "\n",
      "y train: {0.0: 140056, 1.0: 10442}\n",
      "y train resampled: {0.0: 89477, 1.0: 125550}\n"
     ]
    },
    {
     "data": {
      "image/png": "[encoded data removed]",
      "text/plain": [
       "<Figure size 432x288 with 1 Axes>"
      ]
     },
     "metadata": {
      "needs_background": "light"
     },
     "output_type": "display_data"
    }
   ],
   "source": [
    "# Splitting data into training and testing sets\n",
    "X = df.drop(columns=['bad_flag','anomaly_score','anomaly'], axis=1)\n",
    "y = df['bad_flag']\n",
    "\n",
    "X_train, X_test, y_train, y_test = train_test_split(X, y, test_size=0.2, random_state=123)\n",
    "\n",
    "# Handling class imbalance using SMOTEENN (SMOTE + Edited Nearest Neighbors)\n",
    "smote_enn = SMOTEENN(random_state=123)\n",
    "X_train_resampled, y_train_resampled = smote_enn.fit_resample(X_train, y_train)\n",
    "\n",
    "print(f'shape of original training set: {y_train.shape}')\n",
    "print(f'shape of SMOTE training set: {y_train_resampled.shape}')\n",
    "print()\n",
    "\n",
    "print(f'y train: {dict(Counter(y_train))}')\n",
    "print(f'y train resampled: {dict(Counter(y_train_resampled))}')\n",
    "\n",
    "# Convert Counter to a pandas Series for easy plotting\n",
    "resampled_counter = pd.Series(Counter(y_train_resampled))\n",
    "\n",
    "# Visualize the class distribution after resampling\n",
    "plt.figure(figsize=(6, 4))\n",
    "resampled_counter.plot(kind='bar', color=['#FF6347', '#4682B4'])\n",
    "plt.title(\"Class Distribution After SMOTEENN\")\n",
    "plt.xlabel(\"Class (0 = Majority, 1 = Minority)\")\n",
    "plt.ylabel(\"Count\")\n",
    "plt.xticks([0, 1], ['Majority (0)', 'Minority (1)'], rotation=0)\n",
    "plt.show()"
   ]
  },
  {
   "cell_type": "code",
   "execution_count": 6,
   "metadata": {},
   "outputs": [
    {
     "name": "stdout",
     "output_type": "stream",
     "text": [
      "Classification Report for Fold 1: \n",
      "              precision    recall  f1-score   support\n",
      "\n",
      "         0.0       0.86      0.98      0.92     17896\n",
      "         1.0       0.98      0.89      0.93     25110\n",
      "\n",
      "    accuracy                           0.93     43006\n",
      "   macro avg       0.92      0.93      0.92     43006\n",
      "weighted avg       0.93      0.93      0.93     43006\n",
      "\n",
      "Fold 1 AUC: 0.9749\n"
     ]
    },
    {
     "data": {
      "image/png": "[encoded data removed]",
      "text/plain": [
       "<Figure size 432x288 with 1 Axes>"
      ]
     },
     "metadata": {
      "needs_background": "light"
     },
     "output_type": "display_data"
    },
    {
     "name": "stdout",
     "output_type": "stream",
     "text": [
      "Classification Report for Fold 2: \n",
      "              precision    recall  f1-score   support\n",
      "\n",
      "         0.0       0.87      0.97      0.92     17896\n",
      "         1.0       0.98      0.89      0.93     25110\n",
      "\n",
      "    accuracy                           0.93     43006\n",
      "   macro avg       0.92      0.93      0.93     43006\n",
      "weighted avg       0.93      0.93      0.93     43006\n",
      "\n",
      "Fold 2 AUC: 0.9761\n"
     ]
    },
    {
     "data": {
      "image/png": "[encoded data removed]",
      "text/plain": [
       "<Figure size 432x288 with 1 Axes>"
      ]
     },
     "metadata": {
      "needs_background": "light"
     },
     "output_type": "display_data"
    },
    {
     "name": "stdout",
     "output_type": "stream",
     "text": [
      "Classification Report for Fold 3: \n",
      "              precision    recall  f1-score   support\n",
      "\n",
      "         0.0       0.86      0.98      0.92     17895\n",
      "         1.0       0.98      0.89      0.93     25110\n",
      "\n",
      "    accuracy                           0.93     43005\n",
      "   macro avg       0.92      0.93      0.93     43005\n",
      "weighted avg       0.93      0.93      0.93     43005\n",
      "\n",
      "Fold 3 AUC: 0.9759\n"
     ]
    },
    {
     "data": {
      "image/png": "[encoded data removed]",
      "text/plain": [
       "<Figure size 432x288 with 1 Axes>"
      ]
     },
     "metadata": {
      "needs_background": "light"
     },
     "output_type": "display_data"
    },
    {
     "name": "stdout",
     "output_type": "stream",
     "text": [
      "Classification Report for Fold 4: \n",
      "              precision    recall  f1-score   support\n",
      "\n",
      "         0.0       0.86      0.97      0.92     17895\n",
      "         1.0       0.98      0.89      0.93     25110\n",
      "\n",
      "    accuracy                           0.92     43005\n",
      "   macro avg       0.92      0.93      0.92     43005\n",
      "weighted avg       0.93      0.92      0.93     43005\n",
      "\n",
      "Fold 4 AUC: 0.9744\n"
     ]
    },
    {
     "data": {
      "image/png": "[encoded data removed]",
      "text/plain": [
       "<Figure size 432x288 with 1 Axes>"
      ]
     },
     "metadata": {
      "needs_background": "light"
     },
     "output_type": "display_data"
    },
    {
     "name": "stdout",
     "output_type": "stream",
     "text": [
      "Classification Report for Fold 5: \n",
      "              precision    recall  f1-score   support\n",
      "\n",
      "         0.0       0.86      0.97      0.92     17895\n",
      "         1.0       0.98      0.89      0.93     25110\n",
      "\n",
      "    accuracy                           0.92     43005\n",
      "   macro avg       0.92      0.93      0.92     43005\n",
      "weighted avg       0.93      0.92      0.93     43005\n",
      "\n",
      "Fold 5 AUC: 0.9744\n"
     ]
    },
    {
     "data": {
      "image/png": "[encoded data removed]",
      "text/plain": [
       "<Figure size 432x288 with 1 Axes>"
      ]
     },
     "metadata": {
      "needs_background": "light"
     },
     "output_type": "display_data"
    }
   ],
   "source": [
    "# StratifiedKFold cross-validation\n",
    "skf = StratifiedKFold(n_splits=5, shuffle=True, random_state=123)\n",
    "\n",
    "f1scores = []\n",
    "aucs = []\n",
    "\n",
    "# Calculate the scale_pos_weight: ratio of majority class to minority class in the resampled data\n",
    "scale_pos_weight = len(y_train_resampled[y_train_resampled == 0]) / len(y_train_resampled[y_train_resampled == 1])\n",
    "scale_pos_weight\n",
    "\n",
    "# Set up the XGBoost model with specified hyperparameters\n",
    "model = xgb.XGBClassifier(\n",
    "    n_estimators=100,  # number of boosting rounds (trees)\n",
    "    learning_rate=0.1,  # learning rate for more stable model\n",
    "    max_depth=5,  # Max depth of trees\n",
    "    scale_pos_weight=scale_pos_weight,  # Set the scale_pos_weight to handle imbalance\n",
    "    random_state=123,\n",
    "    eval_metric='logloss'  # Evaluation metric for binary classification\n",
    ")\n",
    "\n",
    "\n",
    "for fold, (train_index, val_index) in enumerate(skf.split(X_train_resampled, y_train_resampled)):\n",
    "    # Split the data into training and validation sets for each fold\n",
    "    X_train_fold, X_val_fold = X_train_resampled.iloc[train_index], X_train_resampled.iloc[val_index]\n",
    "    y_train_fold, y_val_fold = y_train_resampled.iloc[train_index], y_train_resampled.iloc[val_index]\n",
    "    \n",
    "    # Fit the model\n",
    "    model.fit(X_train_fold, y_train_fold)\n",
    "    \n",
    "    # Make predictions on the validation fold\n",
    "    y_pred_fold = model.predict(X_val_fold)\n",
    "    y_pred_proba_fold = model.predict_proba(X_val_fold)[:, 1]  # Get probability of the positive class\n",
    "    \n",
    "       \n",
    "    # Calculate F1 score and append to the list\n",
    "    f1 = f1_score(y_val_fold, y_pred_fold)\n",
    "    f1scores.append(f1)\n",
    "    \n",
    "    # Print classification report for analysis\n",
    "    print(f\"Classification Report for Fold {fold+1}: \\n{classification_report(y_val_fold, y_pred_fold)}\")\n",
    "    \n",
    "    \n",
    "    # Calculate AUC score and append to the list\n",
    "    auc_score = roc_auc_score(y_val_fold, y_pred_proba_fold)\n",
    "    aucs.append(auc_score)\n",
    "    \n",
    "    # Print AUC for this fold\n",
    "    print(f\"Fold {fold+1} AUC: {auc_score:.4f}\")\n",
    "    \n",
    "    # Plot ROC curve for this fold\n",
    "    fpr, tpr, thresholds = roc_curve(y_val_fold, y_pred_proba_fold)\n",
    "    roc_auc_score_fold = auc(fpr, tpr)  # Renamed to avoid conflict\n",
    "    \n",
    "    \n",
    "    plt.plot(fpr, tpr, lw=2, label=f\"Fold {fold+1} (AUC = {roc_auc_score_fold:.4f})\")\n",
    "\n",
    "    # Plot settings for ROC curve\n",
    "    plt.plot([0, 1], [0, 1], color='gray', linestyle='--')  # Diagonal line (random classifier)\n",
    "    plt.xlabel('False Positive Rate')\n",
    "    plt.ylabel('True Positive Rate')\n",
    "    plt.title('ROC Curve for All Folds')\n",
    "    plt.legend(loc=\"lower right\")\n",
    "    plt.grid(True)\n",
    "    plt.show()\n"
   ]
  },
  {
   "cell_type": "code",
   "execution_count": 7,
   "metadata": {},
   "outputs": [
    {
     "name": "stdout",
     "output_type": "stream",
     "text": [
      "Mean F1 score: 0.9332\n",
      "Standard Deviation of F1 score: 0.0006\n",
      "\n",
      "List of F1 Score from StratifiedKFold cross-validation: \n",
      "[0.9332637075718015, 0.934239606355031, 0.9335339225641991, 0.9326042036275595, 0.9324846081602838]\n",
      "\n",
      "Average AUC Score: 0.9751\n",
      "Standard Deviation of AUC score: 0.0007\n",
      "\n",
      "List of AUC Score from StratifiedKFold cross-validation: \n",
      "[0.9748992998086025, 0.9760583395064398, 0.9759416099199844, 0.9743527718051747, 0.9743769248222045]\n"
     ]
    }
   ],
   "source": [
    "# Print the F1 score across all folds\n",
    "print(f'Mean F1 score: {np.mean(f1scores):.4f}')\n",
    "print(f'Standard Deviation of F1 score: {np.std(f1scores):.4f}')\n",
    "print(f'\\nList of F1 Score from StratifiedKFold cross-validation: \\n{f1scores}')\n",
    "print()\n",
    "# Print the AUC score across all folds\n",
    "print(f\"Average AUC Score: {np.mean(aucs):.4f}\")\n",
    "print(f'Standard Deviation of AUC score: {np.std(aucs):.4f}')\n",
    "print(f'\\nList of AUC Score from StratifiedKFold cross-validation: \\n{aucs}')"
   ]
  },
  {
   "cell_type": "code",
   "execution_count": null,
   "metadata": {},
   "outputs": [],
   "source": []
  },
  {
   "cell_type": "code",
   "execution_count": 8,
   "metadata": {},
   "outputs": [
    {
     "data": {
      "text/plain": [
       "[0, 0, 0, 1, 0, 0, 0, 0, 0, 0, 0, 1, 0, 0, 0, 1, 0, 0, 0, 0]"
      ]
     },
     "execution_count": 8,
     "metadata": {},
     "output_type": "execute_result"
    }
   ],
   "source": [
    "# Inference (on the testing dataset)\n",
    "dftest = pd.read_csv(\"D:/processed_anomaly_testing_loan_data.csv\", header=0)\n",
    "\n",
    "dftest_cleaned = dftest.drop(columns=['anomaly_score', 'anomaly', 'bad_flag'], errors='ignore')\n",
    "\n",
    "# Predict probabilities for the positive class (bad_flag) on the testing set\n",
    "y_pred_proba_dftest = model.predict_proba(dftest_cleaned)[:, 1]\n",
    "dftest['bad_flag_prob'] = y_pred_proba_dftest\n",
    "\n",
    "# Set threshold for classification (probability > 0.6 is classified as 1)\n",
    "threshold = 0.6\n",
    "\n",
    "# Classify the instances based on the threshold\n",
    "dftest['bad_flag'] = (dftest['bad_flag_prob'] >= threshold).astype(int)\n",
    "list(dftest['bad_flag'])[:20]"
   ]
  },
  {
   "cell_type": "code",
   "execution_count": 9,
   "metadata": {},
   "outputs": [
    {
     "name": "stdout",
     "output_type": "stream",
     "text": [
      "the ratio of 1:0 in the predecited test df: 0.1103946148968343\n",
      "\n",
      "the ratio of 1:0 in the original train df: 0.06938298183364563\n"
     ]
    }
   ],
   "source": [
    "# check the ration of bad_flag 1:0 in the train and test df\n",
    "\n",
    "predtest = sum(1 for i in list(dftest['bad_flag']) if i == 1)\n",
    "lentest = len(list(dftest['bad_flag']))\n",
    "print(f'the ratio of 1:0 in the predecited test df: {predtest / lentest}')\n",
    "\n",
    "predtrain = sum(1 for i in list(y_train) if i == 1)\n",
    "lentrain = len(list(y_train))\n",
    "print(f'\\nthe ratio of 1:0 in the original train df: {predtrain / lentrain}')"
   ]
  },
  {
   "cell_type": "code",
   "execution_count": 10,
   "metadata": {},
   "outputs": [
    {
     "data": {
      "text/html": [
       "<div>\n",
       "<style scoped>\n",
       "    .dataframe tbody tr th:only-of-type {\n",
       "        vertical-align: middle;\n",
       "    }\n",
       "\n",
       "    .dataframe tbody tr th {\n",
       "        vertical-align: top;\n",
       "    }\n",
       "\n",
       "    .dataframe thead th {\n",
       "        text-align: right;\n",
       "    }\n",
       "</style>\n",
       "<table border=\"1\" class=\"dataframe\">\n",
       "  <thead>\n",
       "    <tr style=\"text-align: right;\">\n",
       "      <th></th>\n",
       "      <th>id</th>\n",
       "      <th>member_id</th>\n",
       "      <th>loan_amnt</th>\n",
       "      <th>int_rate</th>\n",
       "      <th>annual_inc</th>\n",
       "      <th>percent_bc_gt_75</th>\n",
       "      <th>bc_util</th>\n",
       "      <th>dti</th>\n",
       "      <th>inq_last_6mths</th>\n",
       "      <th>mths_since_recent_inq</th>\n",
       "      <th>revol_util</th>\n",
       "      <th>total_bc_limit</th>\n",
       "      <th>tot_hi_cred_lim</th>\n",
       "      <th>tot_cur_bal</th>\n",
       "      <th>internal_score</th>\n",
       "      <th>anomaly_score</th>\n",
       "      <th>anomaly</th>\n",
       "      <th>bad_flag</th>\n",
       "      <th>bad_flag_prob</th>\n",
       "    </tr>\n",
       "  </thead>\n",
       "  <tbody>\n",
       "    <tr>\n",
       "      <th>0</th>\n",
       "      <td>20000001</td>\n",
       "      <td>22419852</td>\n",
       "      <td>10000</td>\n",
       "      <td>22.15</td>\n",
       "      <td>37000.0</td>\n",
       "      <td>80.0</td>\n",
       "      <td>83.0</td>\n",
       "      <td>28.51</td>\n",
       "      <td>1</td>\n",
       "      <td>3.0</td>\n",
       "      <td>73.1</td>\n",
       "      <td>16200</td>\n",
       "      <td>14877.170280</td>\n",
       "      <td>36809</td>\n",
       "      <td>131</td>\n",
       "      <td>0.115904</td>\n",
       "      <td>1</td>\n",
       "      <td>0</td>\n",
       "      <td>0.533596</td>\n",
       "    </tr>\n",
       "    <tr>\n",
       "      <th>1</th>\n",
       "      <td>20000002</td>\n",
       "      <td>22349118</td>\n",
       "      <td>1400</td>\n",
       "      <td>18.24</td>\n",
       "      <td>41000.0</td>\n",
       "      <td>0.0</td>\n",
       "      <td>0.0</td>\n",
       "      <td>26.58</td>\n",
       "      <td>0</td>\n",
       "      <td>9.0</td>\n",
       "      <td>11.5</td>\n",
       "      <td>4000</td>\n",
       "      <td>4097.304770</td>\n",
       "      <td>19536</td>\n",
       "      <td>19</td>\n",
       "      <td>0.032762</td>\n",
       "      <td>1</td>\n",
       "      <td>0</td>\n",
       "      <td>0.403181</td>\n",
       "    </tr>\n",
       "    <tr>\n",
       "      <th>2</th>\n",
       "      <td>20000003</td>\n",
       "      <td>22398818</td>\n",
       "      <td>7000</td>\n",
       "      <td>12.49</td>\n",
       "      <td>68900.0</td>\n",
       "      <td>60.0</td>\n",
       "      <td>75.9</td>\n",
       "      <td>6.60</td>\n",
       "      <td>0</td>\n",
       "      <td>11.0</td>\n",
       "      <td>48.1</td>\n",
       "      <td>11900</td>\n",
       "      <td>12688.495160</td>\n",
       "      <td>241465</td>\n",
       "      <td>92</td>\n",
       "      <td>0.124508</td>\n",
       "      <td>1</td>\n",
       "      <td>0</td>\n",
       "      <td>0.458806</td>\n",
       "    </tr>\n",
       "    <tr>\n",
       "      <th>3</th>\n",
       "      <td>20000004</td>\n",
       "      <td>22419015</td>\n",
       "      <td>18000</td>\n",
       "      <td>16.29</td>\n",
       "      <td>41000.0</td>\n",
       "      <td>33.3</td>\n",
       "      <td>61.1</td>\n",
       "      <td>20.61</td>\n",
       "      <td>1</td>\n",
       "      <td>0.0</td>\n",
       "      <td>38.1</td>\n",
       "      <td>7600</td>\n",
       "      <td>7908.799817</td>\n",
       "      <td>179757</td>\n",
       "      <td>235</td>\n",
       "      <td>0.144529</td>\n",
       "      <td>1</td>\n",
       "      <td>1</td>\n",
       "      <td>0.660521</td>\n",
       "    </tr>\n",
       "    <tr>\n",
       "      <th>4</th>\n",
       "      <td>20000005</td>\n",
       "      <td>22388614</td>\n",
       "      <td>12000</td>\n",
       "      <td>12.99</td>\n",
       "      <td>64000.0</td>\n",
       "      <td>75.0</td>\n",
       "      <td>67.0</td>\n",
       "      <td>24.61</td>\n",
       "      <td>0</td>\n",
       "      <td>6.0</td>\n",
       "      <td>57.9</td>\n",
       "      <td>21000</td>\n",
       "      <td>19378.561060</td>\n",
       "      <td>31953</td>\n",
       "      <td>157</td>\n",
       "      <td>0.161886</td>\n",
       "      <td>1</td>\n",
       "      <td>0</td>\n",
       "      <td>0.317421</td>\n",
       "    </tr>\n",
       "  </tbody>\n",
       "</table>\n",
       "</div>"
      ],
      "text/plain": [
       "         id  member_id  loan_amnt  int_rate  annual_inc  percent_bc_gt_75  \\\n",
       "0  20000001   22419852      10000     22.15     37000.0              80.0   \n",
       "1  20000002   22349118       1400     18.24     41000.0               0.0   \n",
       "2  20000003   22398818       7000     12.49     68900.0              60.0   \n",
       "3  20000004   22419015      18000     16.29     41000.0              33.3   \n",
       "4  20000005   22388614      12000     12.99     64000.0              75.0   \n",
       "\n",
       "   bc_util    dti  inq_last_6mths  mths_since_recent_inq  revol_util  \\\n",
       "0     83.0  28.51               1                    3.0        73.1   \n",
       "1      0.0  26.58               0                    9.0        11.5   \n",
       "2     75.9   6.60               0                   11.0        48.1   \n",
       "3     61.1  20.61               1                    0.0        38.1   \n",
       "4     67.0  24.61               0                    6.0        57.9   \n",
       "\n",
       "   total_bc_limit  tot_hi_cred_lim  tot_cur_bal  internal_score  \\\n",
       "0           16200     14877.170280        36809             131   \n",
       "1            4000      4097.304770        19536              19   \n",
       "2           11900     12688.495160       241465              92   \n",
       "3            7600      7908.799817       179757             235   \n",
       "4           21000     19378.561060        31953             157   \n",
       "\n",
       "   anomaly_score  anomaly  bad_flag  bad_flag_prob  \n",
       "0       0.115904        1         0       0.533596  \n",
       "1       0.032762        1         0       0.403181  \n",
       "2       0.124508        1         0       0.458806  \n",
       "3       0.144529        1         1       0.660521  \n",
       "4       0.161886        1         0       0.317421  "
      ]
     },
     "execution_count": 10,
     "metadata": {},
     "output_type": "execute_result"
    }
   ],
   "source": [
    "dftest.head()"
   ]
  },
  {
   "cell_type": "code",
   "execution_count": null,
   "metadata": {},
   "outputs": [],
   "source": []
  }
 ],
 "metadata": {
  "kernelspec": {
   "display_name": "Python 3",
   "language": "python",
   "name": "python3"
  },
  "language_info": {
   "codemirror_mode": {
    "name": "ipython",
    "version": 3
   },
   "file_extension": ".py",
   "mimetype": "text/x-python",
   "name": "python",
   "nbconvert_exporter": "python",
   "pygments_lexer": "ipython3",
   "version": "3.7.4"
  },
  "vp": {
   "vp_config_version": "1.0.0",
   "vp_menu_width": 273,
   "vp_note_display": false,
   "vp_note_width": 0,
   "vp_position": {
    "width": 278
   },
   "vp_section_display": false,
   "vp_signature": "VisualPython"
  }
 },
 "nbformat": 4,
 "nbformat_minor": 2
}
